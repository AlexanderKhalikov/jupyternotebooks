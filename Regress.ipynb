{
 "cells": [
  {
   "cell_type": "markdown",
   "metadata": {},
   "source": [
    "## <center>Imports</center>"
   ]
  },
  {
   "cell_type": "code",
   "execution_count": 16,
   "metadata": {},
   "outputs": [],
   "source": [
    "# -*- coding: utf-8 -*-\n",
    "import requests\n",
    "from xml import sax\n",
    "import html\n",
    "import xmltodict\n",
    "from pprint import pprint\n",
    "from deepdiff import DeepDiff"
   ]
  },
  {
   "cell_type": "code",
   "execution_count": null,
   "metadata": {},
   "outputs": [],
   "source": [
    "result = MyHandler().parse(\"test.xml\")\n",
    "# print(result)"
   ]
  },
  {
   "cell_type": "markdown",
   "metadata": {},
   "source": [
    "## <center>Handler</center>"
   ]
  },
  {
   "cell_type": "code",
   "execution_count": 17,
   "metadata": {},
   "outputs": [],
   "source": [
    "class MyHandler(sax.handler.ContentHandler):\n",
    "    def parse(self, filename):\n",
    "        self.text = []\n",
    "        sax.parse(filename, self)\n",
    "        return ''.join(self.text)\n",
    "\n",
    "    def characters(self, data):\n",
    "        self.text.append(data)"
   ]
  },
  {
   "cell_type": "markdown",
   "metadata": {},
   "source": [
    "## <center>headers = {‘content-type’: ‘application/soap+xml’}</center>"
   ]
  },
  {
   "cell_type": "code",
   "execution_count": 18,
   "metadata": {},
   "outputs": [],
   "source": [
    "headers = {'content-type': 'text/xml'}"
   ]
  },
  {
   "cell_type": "markdown",
   "metadata": {},
   "source": [
    "## <center>WSDL</center>"
   ]
  },
  {
   "cell_type": "code",
   "execution_count": 26,
   "metadata": {},
   "outputs": [],
   "source": [
    "wsdl1 = \"http://z14-0770-odm.vesta.ru:9081/DecisionService/ws/SiteBoxesApp/SiteBoxes?WSDL&compatibility=7113\"\n",
    "wsdl2 = \"http://z14-0811-odm.vesta.ru:9081/DecisionService/ws/SiteBoxesApp/SiteBoxes?WSDL&compatibility=7113\""
   ]
  },
  {
   "cell_type": "markdown",
   "metadata": {},
   "source": [
    "## <center>Request file</center>"
   ]
  },
  {
   "cell_type": "code",
   "execution_count": 27,
   "metadata": {},
   "outputs": [],
   "source": [
    "with open('Request.xml', 'r') as my_file:\n",
    "    body = my_file.read()"
   ]
  },
  {
   "cell_type": "markdown",
   "metadata": {},
   "source": [
    "## <center>Responses to dicts</center>"
   ]
  },
  {
   "cell_type": "code",
   "execution_count": 28,
   "metadata": {},
   "outputs": [],
   "source": [
    "response1 = requests.post(wsdl1, data=body.encode('utf-8'), headers=headers)\n",
    "response2 = requests.post(wsdl2, data=body.encode('utf-8'), headers=headers)\n",
    "\n",
    "answer1 = html.unescape(response1.content.decode('cp1251')).encode('cp1251').decode('utf-8')\n",
    "answer2 = html.unescape(response2.content.decode('cp1251')).encode('cp1251').decode('utf-8')\n",
    "\n",
    "my_dict1 = xmltodict.parse(answer1)\n",
    "my_dict2 = xmltodict.parse(answer2)"
   ]
  },
  {
   "cell_type": "markdown",
   "metadata": {},
   "source": [
    "## <center>Outputs</center>"
   ]
  },
  {
   "cell_type": "code",
   "execution_count": null,
   "metadata": {},
   "outputs": [],
   "source": [
    "print('\\n\\n----------------------------------    WSDL1    -----------------------------------------\\n')\n",
    "pprint(answer1)\n",
    "print('\\n\\n----------------------------------    WSDL12    -----------------------------------------\\n')\n",
    "pprint(answer2)"
   ]
  },
  {
   "cell_type": "code",
   "execution_count": null,
   "metadata": {},
   "outputs": [],
   "source": [
    "print('\\n\\n----------------------------------    dict1    -----------------------------------------\\n')\n",
    "pprint(my_dict1)\n",
    "print('\\n\\n----------------------------------    dict2    -----------------------------------------\\n')\n",
    "pprint(my_dict2)"
   ]
  },
  {
   "cell_type": "code",
   "execution_count": 33,
   "metadata": {},
   "outputs": [
    {
     "name": "stdout",
     "output_type": "stream",
     "text": [
      "\n",
      "\t----------------------------------    DIFFERENCE    -----------------------------------------\n",
      "\n",
      "{ 'values_changed': { \"root['soapenv:Envelope']['soapenv:Body']['SiteBoxesResponse']['DecisionID']['#text']\": { 'new_value': 'f2498338-344a-4947-9ad7-dd2a297f42b60',\n",
      "                                                                                                                'old_value': 'ba254570-a1c2-457f-ac34-c0922c39e2d80'}}}\n"
     ]
    }
   ],
   "source": [
    "print('\\n\\t----------------------------------    DIFFERENCE    -----------------------------------------\\n')\n",
    "pprint(DeepDiff(my_dict1, my_dict2), indent=2)"
   ]
  },
  {
   "cell_type": "code",
   "execution_count": 35,
   "metadata": {},
   "outputs": [
    {
     "name": "stdout",
     "output_type": "stream",
     "text": [
      "<class 'deepdiff.diff.DeepDiff'>\n"
     ]
    }
   ],
   "source": [
    "diff = DeepDiff(my_dict1, my_dict2)\n",
    "print(type(diff))"
   ]
  }
 ],
 "metadata": {
  "kernelspec": {
   "display_name": "Python 3",
   "language": "python",
   "name": "python3"
  },
  "language_info": {
   "codemirror_mode": {
    "name": "ipython",
    "version": 3
   },
   "file_extension": ".py",
   "mimetype": "text/x-python",
   "name": "python",
   "nbconvert_exporter": "python",
   "pygments_lexer": "ipython3",
   "version": "3.6.4"
  }
 },
 "nbformat": 4,
 "nbformat_minor": 2
}

{
 "cells": [
  {
   "cell_type": "code",
   "execution_count": 1,
   "metadata": {},
   "outputs": [],
   "source": [
    "import urllib.parse\n",
    "import urllib.request\n",
    "import ssl\n",
    "import requests\n",
    "import bs4\n",
    "\n",
    "from bs4 import BeautifulSoup as BS\n",
    "import urllib\n",
    "import re"
   ]
  },
  {
   "cell_type": "code",
   "execution_count": 2,
   "metadata": {},
   "outputs": [],
   "source": [
    "res = requests.get('https://www.fonbet.ru/#!/')"
   ]
  },
  {
   "cell_type": "code",
   "execution_count": 3,
   "metadata": {},
   "outputs": [],
   "source": [
    "soup = bs4.BeautifulSoup(res.text, 'lxml')"
   ]
  },
  {
   "cell_type": "code",
   "execution_count": 4,
   "metadata": {},
   "outputs": [],
   "source": [
    "links = soup.find_all('a')"
   ]
  },
  {
   "cell_type": "code",
   "execution_count": 5,
   "metadata": {},
   "outputs": [],
   "source": [
    "for i in links:\n",
    "    print(i)"
   ]
  },
  {
   "cell_type": "code",
   "execution_count": null,
   "metadata": {},
   "outputs": [],
   "source": []
  },
  {
   "cell_type": "code",
   "execution_count": 6,
   "metadata": {},
   "outputs": [
    {
     "name": "stdout",
     "output_type": "stream",
     "text": [
      "/now/\n",
      "/novosti/\n",
      "/pomosch/free-bet/\n",
      "/cupis/punkty-priema-stavok/\n",
      "/now/\n",
      "/stavki/sport/futbol/\n",
      "/stavki/sport/tennis/\n",
      "/stavki/sport/basketbol/\n",
      "/stavki/sport/xokkej/\n",
      "/stavki/sport/gandbol/\n",
      "/stavki/sport/volejbol/\n",
      "/stavki/sport/bejsbol/\n",
      "/stavki/sport/regbi/\n",
      "/stavki/sport/futzal/\n",
      "/stavki/sport/avtosport/\n",
      "/stavki/sport/am_futbol/\n",
      "/stavki/sport/golijf/\n",
      "/stavki/sport/vodnoe_polo/\n",
      "/stavki/sport/darts/\n",
      "/stavki/sport/kerling/\n",
      "/stavki/sport/pesapallo/\n",
      "/stavki/sport/plyazhnyj_volejbol/\n",
      "/stavki/sport/plyazhnyj_futbol/\n",
      "/stavki/sport/snuker/\n",
      "/stavki/sport/florbol/\n",
      "/stavki/sport/badminton/\n",
      "/stavki/sport/nastolijnyj_tennis/\n"
     ]
    }
   ],
   "source": [
    "from urllib.request import urlopen\n",
    "from bs4 import BeautifulSoup\n",
    "import ssl\n",
    "\n",
    "context = ssl._create_unverified_context()\n",
    "html = urlopen('https://winline.ru', context=context) # Insert your URL to extract\n",
    "bsObj = BeautifulSoup(html.read());\n",
    "\n",
    "for link in bsObj.find_all('a'):\n",
    "    print(link.get('href'))"
   ]
  },
  {
   "cell_type": "code",
   "execution_count": 53,
   "metadata": {},
   "outputs": [],
   "source": [
    "from bs4 import BeautifulSoup as soup\n",
    "from urllib.request import urlopen as uReq\n",
    "import ssl\n",
    "import csv\n",
    "\n",
    "context = ssl._create_unverified_context()"
   ]
  },
  {
   "cell_type": "code",
   "execution_count": 13,
   "metadata": {},
   "outputs": [],
   "source": [
    "my_url = 'https://www.newegg.com/Product/ProductList.aspx?Submit=ENE&DEPA=0&Order=BESTMATCH&Description=graphics+card&ignorear=0&N=-1&isNodeId=1'"
   ]
  },
  {
   "cell_type": "code",
   "execution_count": 17,
   "metadata": {},
   "outputs": [],
   "source": [
    "uClient = uReq(my_url, context=context)"
   ]
  },
  {
   "cell_type": "code",
   "execution_count": 18,
   "metadata": {},
   "outputs": [],
   "source": [
    "page_html = uClient.read()"
   ]
  },
  {
   "cell_type": "code",
   "execution_count": 19,
   "metadata": {},
   "outputs": [],
   "source": [
    "uClient.close()"
   ]
  },
  {
   "cell_type": "code",
   "execution_count": 20,
   "metadata": {},
   "outputs": [],
   "source": [
    "page_soup = soup(page_html, 'html.parser')"
   ]
  },
  {
   "cell_type": "code",
   "execution_count": 21,
   "metadata": {},
   "outputs": [
    {
     "data": {
      "text/plain": [
       "<h1 class=\"page-title-text\">\"graphics card\"</h1>"
      ]
     },
     "execution_count": 21,
     "metadata": {},
     "output_type": "execute_result"
    }
   ],
   "source": [
    "page_soup.h1"
   ]
  },
  {
   "cell_type": "code",
   "execution_count": 22,
   "metadata": {},
   "outputs": [
    {
     "data": {
      "text/plain": [
       "<p>Newegg.com - A great place to buy computers, computer parts, electronics, software, accessories, and DVDs online. With great prices, fast shipping, and top-rated customer service - Newegg shopping upgraded ™</p>"
      ]
     },
     "execution_count": 22,
     "metadata": {},
     "output_type": "execute_result"
    }
   ],
   "source": [
    "page_soup.p"
   ]
  },
  {
   "cell_type": "code",
   "execution_count": 23,
   "metadata": {},
   "outputs": [
    {
     "data": {
      "text/plain": [
       "<span class=\"noCSS\">Skip to:</span>"
      ]
     },
     "execution_count": 23,
     "metadata": {},
     "output_type": "execute_result"
    }
   ],
   "source": [
    "page_soup.body.span"
   ]
  },
  {
   "cell_type": "code",
   "execution_count": 24,
   "metadata": {},
   "outputs": [],
   "source": [
    "containers = page_soup.findAll('div', {'class': 'item-container '})"
   ]
  },
  {
   "cell_type": "code",
   "execution_count": 25,
   "metadata": {},
   "outputs": [
    {
     "data": {
      "text/plain": [
       "36"
      ]
     },
     "execution_count": 25,
     "metadata": {},
     "output_type": "execute_result"
    }
   ],
   "source": [
    "len(containers)"
   ]
  },
  {
   "cell_type": "code",
   "execution_count": 26,
   "metadata": {},
   "outputs": [],
   "source": [
    "container = containers[0]"
   ]
  },
  {
   "cell_type": "code",
   "execution_count": 27,
   "metadata": {},
   "outputs": [
    {
     "data": {
      "text/plain": [
       "<a class=\"item-img\" href=\"https://www.newegg.com/Product/Product.aspx?Item=N82E16814137054&amp;cm_re=graphics_card-_-14-137-054-_-Product\">\n",
       "<img alt=\"MSI GeForce GTX 1050 Ti DirectX 12 GTX 1050 Ti GAMING X 4G 4GB 128-Bit GDDR5 PCI Express 3.0 x16 HDCP Ready ATX Video Card\" src=\"//c1.neweggimages.com/ProductImageCompressAll300/14-137-054-07.jpg\" title=\"MSI GeForce GTX 1050 Ti DirectX 12 GTX 1050 Ti GAMING X 4G 4GB 128-Bit GDDR5 PCI Express 3.0 x16 HDCP Ready ATX Video Card\"/>\n",
       "</a>"
      ]
     },
     "execution_count": 27,
     "metadata": {},
     "output_type": "execute_result"
    }
   ],
   "source": [
    "container.a"
   ]
  },
  {
   "cell_type": "code",
   "execution_count": 28,
   "metadata": {},
   "outputs": [
    {
     "data": {
      "text/plain": [
       "<a class=\"item-brand\" href=\"https://www.newegg.com/MSI/BrandStore/ID-1312\">\n",
       "<img alt=\"MSI\" src=\"//c1.neweggimages.com/Brandimage_70x28//Brand1312.gif\" title=\"MSI\"/>\n",
       "</a>"
      ]
     },
     "execution_count": 28,
     "metadata": {},
     "output_type": "execute_result"
    }
   ],
   "source": [
    "container.div.div.a"
   ]
  },
  {
   "cell_type": "code",
   "execution_count": 29,
   "metadata": {},
   "outputs": [
    {
     "data": {
      "text/plain": [
       "<img alt=\"MSI\" src=\"//c1.neweggimages.com/Brandimage_70x28//Brand1312.gif\" title=\"MSI\"/>"
      ]
     },
     "execution_count": 29,
     "metadata": {},
     "output_type": "execute_result"
    }
   ],
   "source": [
    "container.div.div.a.img"
   ]
  },
  {
   "cell_type": "code",
   "execution_count": 33,
   "metadata": {},
   "outputs": [
    {
     "data": {
      "text/plain": [
       "'MSI'"
      ]
     },
     "execution_count": 33,
     "metadata": {},
     "output_type": "execute_result"
    }
   ],
   "source": [
    "container.div.div.a.img['title']"
   ]
  },
  {
   "cell_type": "code",
   "execution_count": 34,
   "metadata": {},
   "outputs": [
    {
     "data": {
      "text/plain": [
       "<a class=\"item-brand\" href=\"https://www.newegg.com/MSI/BrandStore/ID-1312\">\n",
       "<img alt=\"MSI\" src=\"//c1.neweggimages.com/Brandimage_70x28//Brand1312.gif\" title=\"MSI\"/>\n",
       "</a>"
      ]
     },
     "execution_count": 34,
     "metadata": {},
     "output_type": "execute_result"
    }
   ],
   "source": [
    "container.div.div.a"
   ]
  },
  {
   "cell_type": "code",
   "execution_count": 37,
   "metadata": {},
   "outputs": [
    {
     "data": {
      "text/plain": [
       "[<a class=\"item-title\" href=\"https://www.newegg.com/Product/Product.aspx?Item=N82E16814137054&amp;cm_re=graphics_card-_-14-137-054-_-Product\" title=\"View Details\"><i class=\"icon-premier icon-premier-xsm\"></i>MSI GeForce GTX 1050 Ti DirectX 12 GTX 1050 Ti GAMING X 4G 4GB 128-Bit GDDR5 PCI Express 3.0 x16 HDCP Ready ATX Video Card</a>]"
      ]
     },
     "execution_count": 37,
     "metadata": {},
     "output_type": "execute_result"
    }
   ],
   "source": [
    "title_container = container.findAll('a', {'class':'item-title'})\n",
    "title_container"
   ]
  },
  {
   "cell_type": "code",
   "execution_count": 39,
   "metadata": {},
   "outputs": [
    {
     "data": {
      "text/plain": [
       "'MSI GeForce GTX 1050 Ti DirectX 12 GTX 1050 Ti GAMING X 4G 4GB 128-Bit GDDR5 PCI Express 3.0 x16 HDCP Ready ATX Video Card'"
      ]
     },
     "execution_count": 39,
     "metadata": {},
     "output_type": "execute_result"
    }
   ],
   "source": [
    "product_name = title_container[0].text\n",
    "product_name"
   ]
  },
  {
   "cell_type": "code",
   "execution_count": 44,
   "metadata": {},
   "outputs": [
    {
     "data": {
      "text/plain": [
       "'$4.99 Shipping'"
      ]
     },
     "execution_count": 44,
     "metadata": {},
     "output_type": "execute_result"
    }
   ],
   "source": [
    "shipping_container = container.findAll('li', {'class':'price-ship'})\n",
    "shipping_container[0].text.strip()"
   ]
  },
  {
   "cell_type": "code",
   "execution_count": 48,
   "metadata": {},
   "outputs": [
    {
     "name": "stdout",
     "output_type": "stream",
     "text": [
      "\n",
      "\t---------------------------------\n",
      "\n",
      "brand: MSI\n",
      "product_name: MSI GeForce GTX 1050 Ti DirectX 12 GTX 1050 Ti GAMING X 4G 4GB 128-Bit GDDR5 PCI Express 3.0 x16 HDCP Ready ATX Video Card\n",
      "shipping: $4.99 Shipping\n",
      "\n",
      "\t---------------------------------\n",
      "\n",
      "brand: GIGABYTE\n",
      "product_name: GIGABYTE GeForce GTX 1060 DirectX 12 GV-N1060WF2OC-6GD 6GB 192-Bit GDDR5 PCI Express 3.0 x16 ATX Video Card\n",
      "shipping: $4.99 Shipping\n",
      "\n",
      "\t---------------------------------\n",
      "\n",
      "brand: EVGA\n",
      "product_name: EVGA GeForce GTX 1050 Ti GAMING, 04G-P4-6251-KR, 4GB GDDR5, DX12 OSD Support (PXOC)\n",
      "shipping: $4.99 Shipping\n",
      "\n",
      "\t---------------------------------\n",
      "\n",
      "brand: MSI\n",
      "product_name: MSI GeForce GTX 1080 DirectX 12 GTX 1080 AERO 8G OC 8GB 256-Bit GDDR5X PCI Express 3.0 x16 HDCP Ready SLI Support ATX Video Card\n",
      "shipping: Free Shipping\n",
      "\n",
      "\t---------------------------------\n",
      "\n",
      "brand: MSI\n",
      "product_name: MSI GeForce GTX 1080 Ti DirectX 12 GeForce GTX 1080 TI ARMOR 11G OC 11GB 352-Bit GDDR5X PCI Express 3.0 x16 HDCP Ready SLI Support Video Card\n",
      "shipping: Free Shipping\n",
      "\n",
      "\t---------------------------------\n",
      "\n",
      "brand: MSI\n",
      "product_name: MSI GeForce GTX 1060 DirectX 12 GTX 1060 GAMING X 6G 6GB 192-Bit GDDR5 PCI Express 3.0 x16 HDCP Ready ATX Video Card\n",
      "shipping: $4.99 Shipping\n",
      "\n",
      "\t---------------------------------\n",
      "\n",
      "brand: EVGA\n",
      "product_name: EVGA GeForce GTX 1060 SC GAMING, ACX 2.0 (Single Fan), 03G-P4-6162-KR, 3GB GDDR5, DX12 OSD Support (PXOC)\n",
      "shipping: Free Shipping\n",
      "\n",
      "\t---------------------------------\n",
      "\n",
      "brand: EVGA\n",
      "product_name: EVGA GeForce GTX 1080 Ti Black Edition GAMING, 11G-P4-6391-KR, 11GB GDDR5X, iCX Cooler & LED\n",
      "shipping: $4.99 Shipping\n",
      "\n",
      "\t---------------------------------\n",
      "\n",
      "brand: EVGA\n",
      "product_name: EVGA GeForce GTX 1080 Ti FTW3 GAMING, 11G-P4-6696-KR, 11GB GDDR5X, iCX Technology - 9 Thermal Sensors & RGB LED G/P/M\n",
      "shipping: Free Shipping\n",
      "\n",
      "\t---------------------------------\n",
      "\n",
      "brand: EVGA\n",
      "product_name: EVGA GeForce GTX 1060 6GB SSC GAMING ACX 3.0, 6GB GDDR5, LED, DX12 OSD Support (PXOC), 06G-P4-6267-KR\n",
      "shipping: $4.99 Shipping\n",
      "\n",
      "\t---------------------------------\n",
      "\n",
      "brand: GIGABYTE\n",
      "product_name: GIGABYTE Radeon RX 570 DirectX 12 GV-RX570GAMING-4GD 4GB 256-Bit GDDR5 PCI Express 3.0 x16 CrossFireX Support ATX Video Card\n",
      "shipping: Free Shipping\n",
      "\n",
      "\t---------------------------------\n",
      "\n",
      "brand: GIGABYTE\n",
      "product_name: GIGABYTE GeForce GTX 1050 DirectX 12 GV-N1050OC-2GD 2GB 128-Bit GDDR5 PCI Express 3.0 x16 ATX Video Card\n",
      "shipping: $4.99 Shipping\n",
      "\n",
      "\t---------------------------------\n",
      "\n",
      "brand: MSI\n",
      "product_name: MSI GeForce GTX 1070 DirectX 12 GTX 1070 ARMOR 8G OC 8GB 256-Bit GDDR5 PCI Express 3.0 x16 HDCP Ready SLI Support ATX Video Card\n",
      "shipping: Free Shipping\n",
      "\n",
      "\t---------------------------------\n",
      "\n",
      "brand: PowerColor\n",
      "product_name: PowerColor Red Dragon Radeon RX 560 14CU DirectX 12 AXRX 560 4GBD5-DHA 4GB 128-Bit GDDR5 PCI Express 3.0 CrossFireX Support ATX Video Card\n",
      "shipping: $3.99 Shipping\n",
      "\n",
      "\t---------------------------------\n",
      "\n",
      "brand: Sapphire Tech\n",
      "product_name: Sapphire PULSE Radeon RX 580 8GB GDDR5 PCI-E Dual HDMI / DVI-D / Dual DP OC w/ Backplate (UEFI), 100411P8GOCL\n",
      "shipping: $4.99 Shipping\n",
      "\n",
      "\t---------------------------------\n",
      "\n",
      "brand: ASUS\n",
      "product_name: ASUS ROG GeForce GTX 1080 Ti DirectX 12 STRIX-GTX1080TI-11G-GAMING 11GB 352-Bit GDDR5X HDCP Ready SLI Support Video Card\n",
      "shipping: $4.99 Shipping\n",
      "\n",
      "\t---------------------------------\n",
      "\n",
      "brand: EVGA\n",
      "product_name: EVGA GeForce GTX 1050 GAMING, 02G-P4-6150-KR, 2GB GDDR5, DX12 OSD Support (PXOC)\n",
      "shipping: Free Shipping\n",
      "\n",
      "\t---------------------------------\n",
      "\n",
      "brand: EVGA\n",
      "product_name: EVGA GeForce GTX 1060 SC GAMING, ACX 2.0 (Single Fan), 06G-P4-6163-KR, 6GB GDDR5, DX12 OSD Support (PXOC), Only 6.8 Inches\n",
      "shipping: $4.99 Shipping\n",
      "\n",
      "\t---------------------------------\n",
      "\n",
      "brand: EVGA\n",
      "product_name: EVGA GeForce GTX 1070 SC GAMING ACX 3.0 Black Edition, 08G-P4-5173-KR, 8GB GDDR5, LED, DX12 OSD Support (PXOC)\n",
      "shipping: Free Shipping\n",
      "\n",
      "\t---------------------------------\n",
      "\n",
      "brand: ASUS\n",
      "product_name: ASUS Cerberus GeForce GTX 1050 Ti 4GB OC Edition GDDR5 Gaming Graphics Card, CERBERUS-GTX1050TI-O4G\n",
      "shipping: $4.99 Shipping\n",
      "\n",
      "\t---------------------------------\n",
      "\n",
      "brand: EVGA\n",
      "product_name: EVGA GeForce GTX 1080 Ti SC Black Edition GAMING, 11G-P4-6393-KR, 11GB GDDR5X, iCX Cooler & LED\n",
      "shipping: Free Shipping\n",
      "\n",
      "\t---------------------------------\n",
      "\n",
      "brand: ZOTAC\n",
      "product_name: ZOTAC GeForce GTX 1070 Ti DirectX 12 ZT-P10710G-10P 8GB 256-Bit GDDR5 PCI Express 3.0 Video Card - Mini\n",
      "shipping: $5.99 Shipping\n",
      "\n",
      "\t---------------------------------\n",
      "\n",
      "brand: MSI\n",
      "product_name: MSI Radeon RX 580 DirectX 12 RX 580 ARMOR 8G OC 8GB 256-Bit GDDR5 PCI Express x16 HDCP Ready CrossFireX Support Video Card\n",
      "shipping: $3.99 Shipping\n",
      "\n",
      "\t---------------------------------\n",
      "\n",
      "brand: GIGABYTE\n",
      "product_name: GIGABYTE GeForce GTX 1080 DirectX 12 GV-N1080D5X-8GD 8GB 256-Bit GDDR5X PCI Express 3.0 x16 SLI Support ATX Video Cards\n",
      "shipping: $4.99 Shipping\n",
      "\n",
      "\t---------------------------------\n",
      "\n",
      "brand: ZOTAC\n",
      "product_name: ZOTAC GeForce GTX 1080 Ti DirectX 12 ZT-P10810G-10P 11GB 352-Bit GDDR5X PCI Express 3.0 HDCP Ready SLI Support Video Card\n",
      "shipping: $4.99 Shipping\n",
      "\n",
      "\t---------------------------------\n",
      "\n",
      "brand: ZOTAC\n",
      "product_name: ZOTAC GeForce GTX 1080 Ti AMP Edition 11GB GDDR5X 352-bit Gaming Graphics Card VR Ready 16+2 Power Phase Freeze Fan Stop IceStorm Cooling Spectra Lighting ZT-P10810D-10P\n",
      "shipping: $4.99 Shipping\n",
      "\n",
      "\t---------------------------------\n",
      "\n",
      "brand: ZOTAC\n",
      "product_name: ZOTAC GeForce GTX 1050 Ti DirectX 12 ZT-P10510A-10L 4GB 128-Bit GDDR5 PCI Express 3.0 HDCP Ready Mini Video Card\n",
      "shipping: $4.99 Shipping\n",
      "\n",
      "\t---------------------------------\n",
      "\n",
      "brand: ZOTAC\n",
      "product_name: ZOTAC GeForce GTX 1080 Ti AMP Extreme Core 11GB GDDR5X 352-bit Gaming Graphics Card VR Ready 16+2 Power Phase Freeze Fan Stop IceStorm Cooling Spectra Lighting ZT-P10810F-10P\n",
      "shipping: Free Shipping\n",
      "\n",
      "\t---------------------------------\n",
      "\n",
      "brand: GIGABYTE\n",
      "product_name: GIGABYTE GeForce GTX 1060 DirectX 12 GV-N1060WF2OC-3GD 3GB 192-Bit GDDR5 PCI Express 3.0 x16 ATX Video Card\n",
      "shipping: $4.99 Shipping\n",
      "\n",
      "\t---------------------------------\n",
      "\n",
      "brand: ASUS\n",
      "product_name: ASUS DUAL RTX 2080 Overclocked Edition 8GB VR Ready Gaming Graphics Card - Turing Architecture (DUAL-RTX2080-O8G)\n",
      "shipping: Free Shipping\n",
      "\n",
      "\t---------------------------------\n",
      "\n",
      "brand: EVGA\n",
      "product_name: EVGA GeForce GTX 1050 Ti FTW GAMING ACX 3.0, 04G-P4-6258-KR, 4GB GDDR5, DX12 OSD Support (PXOC)\n",
      "shipping: Free Shipping\n",
      "\n",
      "\t---------------------------------\n",
      "\n",
      "brand: ASUS\n",
      "product_name: ASUS GeForce GTX 1060 DUAL-GTX1060-O6G 6GB 192-Bit GDDR5 PCI Express 3.0 HDCP Ready Video Card\n",
      "shipping: Free Shipping\n",
      "\n",
      "\t---------------------------------\n",
      "\n",
      "brand: ASUS\n",
      "product_name: ASUS ROG Strix Radeon RX 580 O8G Gaming OC Edition GDDR5 DP HDMI DVI VR Ready AMD Graphics Card with RGB Lighting (ROG-STRIX-RX580-O8G-GAMING)\n",
      "shipping: $4.99 Shipping\n",
      "\n",
      "\t---------------------------------\n",
      "\n",
      "brand: Sapphire Tech\n",
      "product_name: Sapphire Radeon NITRO+ RX 580 8GB GDDR5 PCI-E Dual HDMI / DVI-D / Dual DP w/ Backplate (UEFI), 100411NT+8GL\n",
      "shipping: $4.99 Shipping\n",
      "\n",
      "\t---------------------------------\n",
      "\n",
      "brand: ZOTAC\n",
      "product_name: ZOTAC GeForce GTX 1080 Mini, ZT-P10800H-10P, 8GB GDDR5X IceStorm Cooling, Dual Fans, 90mm Pressure Optimized Fan, 100mm Maximum Airflow Optimized Fan, Direct GPU Copper Block Contact, Metal Back Plate\n",
      "shipping: $4.99 Shipping\n",
      "\n",
      "\t---------------------------------\n",
      "\n",
      "brand: PowerColor\n",
      "product_name: PowerColor RED DEVIL Radeon RX 580 DirectX 12 AXRX 580 8GBD5-3DH/OC 8GB 256-Bit GDDR5 PCI Express 3.0 CrossFireX Support ATX Video Card\n",
      "shipping: $4.99 Shipping\n",
      "\n",
      "\t---------------------------------\n",
      "\n"
     ]
    }
   ],
   "source": [
    "for container in containers:\n",
    "    brand = container.div.div.a.img['title']\n",
    "    \n",
    "    title_container = container.findAll('a', {'class':'item-title'})\n",
    "    product_name = title_container[0].text\n",
    "    \n",
    "    shipping_container = container.findAll('li', {'class':'price-ship'})\n",
    "    shipping = shipping_container[0].text.strip()\n",
    "    \n",
    "    print('\\n\\t---------------------------------\\n')\n",
    "    print('brand: ' + brand)\n",
    "    print('product_name: ' + product_name)\n",
    "    print('shipping: ' + shipping)\n",
    "    \n",
    "print('\\n\\t---------------------------------\\n')"
   ]
  },
  {
   "cell_type": "code",
   "execution_count": 54,
   "metadata": {},
   "outputs": [],
   "source": [
    "f = open('products.csv', 'w') \n",
    "headers = 'brand, product_name, shipping\\n'"
   ]
  },
  {
   "cell_type": "code",
   "execution_count": 55,
   "metadata": {},
   "outputs": [
    {
     "data": {
      "text/plain": [
       "30"
      ]
     },
     "execution_count": 55,
     "metadata": {},
     "output_type": "execute_result"
    }
   ],
   "source": [
    "f.write(headers)"
   ]
  },
  {
   "cell_type": "code",
   "execution_count": 56,
   "metadata": {},
   "outputs": [],
   "source": [
    "for container in containers:\n",
    "    brand = container.div.div.a.img['title']\n",
    "    \n",
    "    title_container = container.findAll('a', {'class':'item-title'})\n",
    "    product_name = title_container[0].text\n",
    "    \n",
    "    shipping_container = container.findAll('li', {'class':'price-ship'})\n",
    "    shipping = shipping_container[0].text.strip()\n",
    "    \n",
    "    f.write(brand + ',' + product_name.replace(',', '|') + ',' + shipping + '\\n')\n",
    "    \n",
    "f.close()"
   ]
  },
  {
   "cell_type": "code",
   "execution_count": null,
   "metadata": {},
   "outputs": [],
   "source": []
  }
 ],
 "metadata": {
  "kernelspec": {
   "display_name": "Python 3",
   "language": "python",
   "name": "python3"
  },
  "language_info": {
   "codemirror_mode": {
    "name": "ipython",
    "version": 3
   },
   "file_extension": ".py",
   "mimetype": "text/x-python",
   "name": "python",
   "nbconvert_exporter": "python",
   "pygments_lexer": "ipython3",
   "version": "3.7.0"
  }
 },
 "nbformat": 4,
 "nbformat_minor": 2
}
